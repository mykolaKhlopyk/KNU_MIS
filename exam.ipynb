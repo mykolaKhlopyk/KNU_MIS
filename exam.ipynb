{
 "cells": [
  {
   "cell_type": "code",
   "execution_count": 1,
   "id": "13161de7",
   "metadata": {
    "tags": []
   },
   "outputs": [],
   "source": [
    "import pandas as pd\n",
    "import numpy as np\n",
    "import matplotlib.pyplot as plt\n",
    "import seaborn as sns\n",
    "\n",
    "data = pd.read_csv('Expanded_data_with_more_features.csv')"
   ]
  },
  {
   "cell_type": "code",
   "execution_count": 18,
   "id": "1f7361e6",
   "metadata": {
    "tags": []
   },
   "outputs": [
    {
     "name": "stdout",
     "output_type": "stream",
     "text": [
      "Студентів: 15217\n",
      "Студенток: 15424\n"
     ]
    }
   ],
   "source": [
    "# 1. Скільки студентів і студенток у наборі даних?\n",
    "gender_counts = data['Gender'].value_counts()\n",
    "print(\"Студентів:\", gender_counts['male'])\n",
    "print(\"Студенток:\", gender_counts['female'])"
   ]
  },
  {
   "cell_type": "code",
   "execution_count": 3,
   "id": "ea344f84",
   "metadata": {
    "tags": []
   },
   "outputs": [
    {
     "name": "stdout",
     "output_type": "stream",
     "text": [
      "Відсоток студентів чоловічої статі: 49.6622172905584\n"
     ]
    }
   ],
   "source": [
    "# 2. Який відсоток студентів чоловічої статі в наборі даних?\n",
    "male_percentage = (gender_counts['male'] / data.shape[0]) * 100\n",
    "print(\"Відсоток студентів чоловічої статі:\", male_percentage)"
   ]
  },
  {
   "cell_type": "code",
   "execution_count": 5,
   "id": "36196352",
   "metadata": {
    "tags": []
   },
   "outputs": [
    {
     "name": "stdout",
     "output_type": "stream",
     "text": [
      "Female student percentage: 50.3377827094416\n"
     ]
    }
   ],
   "source": [
    "# 3. Який відсоток студенток у наборі даних?\n",
    "female_percentage = 100 - male_percentage\n",
    "print(\"Female student percentage:\", female_percentage)"
   ]
  },
  {
   "cell_type": "code",
   "execution_count": 6,
   "id": "e1ec2579",
   "metadata": {
    "tags": []
   },
   "outputs": [
    {
     "name": "stdout",
     "output_type": "stream",
     "text": [
      "group E\n"
     ]
    }
   ],
   "source": [
    "# 4. Яка етнічна група має найвищий середній бал з математики?\n",
    "highest_math = data.groupby('EthnicGroup')['MathScore'].mean().idxmax()\n",
    "print(highest_math)"
   ]
  },
  {
   "cell_type": "code",
   "execution_count": 7,
   "id": "1bd6773f",
   "metadata": {
    "tags": []
   },
   "outputs": [
    {
     "name": "stdout",
     "output_type": "stream",
     "text": [
      "group E\n"
     ]
    }
   ],
   "source": [
    "# 5. Яка етнічна група має найвищий середній бал читання?\n",
    "highest_reading = data.groupby('EthnicGroup')['ReadingScore'].mean().idxmax()\n",
    "print(highest_reading)"
   ]
  },
  {
   "cell_type": "code",
   "execution_count": 8,
   "id": "6e5f8472",
   "metadata": {
    "tags": []
   },
   "outputs": [
    {
     "name": "stdout",
     "output_type": "stream",
     "text": [
      "group E\n"
     ]
    }
   ],
   "source": [
    "# 6. Яка етнічна група має найвищий середній бал з письма?\n",
    "highest_writing = data.groupby('EthnicGroup')['WritingScore'].mean().idxmax()\n",
    "print(highest_writing)"
   ]
  },
  {
   "cell_type": "code",
   "execution_count": 9,
   "id": "cb3bcd34",
   "metadata": {
    "tags": []
   },
   "outputs": [
    {
     "name": "stdout",
     "output_type": "stream",
     "text": [
      "69.5466599698644\n"
     ]
    }
   ],
   "source": [
    "# 7. Який середній бал з математики для студентів, які закінчили курс підготовки до тесту?\n",
    "avg_math_completed = data[data['TestPrep'] == 'completed']['MathScore'].mean()\n",
    "print(avg_math_completed)"
   ]
  },
  {
   "cell_type": "code",
   "execution_count": 10,
   "id": "cf7f61d0",
   "metadata": {
    "tags": []
   },
   "outputs": [
    {
     "name": "stdout",
     "output_type": "stream",
     "text": [
      "73.73299849321948\n"
     ]
    }
   ],
   "source": [
    "# 8. Який середній бал з читання для студентів, які пройшли курс підготовки до тесту?\n",
    "avg_reading_completed = data[data['TestPrep'] == 'completed']['ReadingScore'].mean()\n",
    "print(avg_reading_completed)"
   ]
  },
  {
   "cell_type": "code",
   "execution_count": 11,
   "id": "25c59aa0",
   "metadata": {
    "tags": []
   },
   "outputs": [
    {
     "name": "stdout",
     "output_type": "stream",
     "text": [
      "74.70326469111\n"
     ]
    }
   ],
   "source": [
    "# 9. Який середній бал для студентів, які закінчили курс підготовки до тесту?\n",
    "avg_writing_completed = data[data['TestPrep'] == 'completed']['WritingScore'].mean()\n",
    "print(avg_writing_completed)"
   ]
  },
  {
   "cell_type": "code",
   "execution_count": 12,
   "id": "2c100ed9",
   "metadata": {
    "tags": []
   },
   "outputs": [
    {
     "name": "stdout",
     "output_type": "stream",
     "text": [
      "16844\n"
     ]
    }
   ],
   "source": [
    "# 10. Скільки студентів мають одружених батьків?\n",
    "married_parents = data[data['ParentMaritalStatus'] == 'married'].shape[0]\n",
    "print(married_parents)"
   ]
  },
  {
   "cell_type": "code",
   "execution_count": 13,
   "id": "9293713a",
   "metadata": {
    "tags": []
   },
   "outputs": [
    {
     "name": "stdout",
     "output_type": "stream",
     "text": [
      "7097\n"
     ]
    }
   ],
   "source": [
    "# 11. Скільки студентів мають батьків-одинаків?\n",
    "single_parents = data[data['ParentMaritalStatus'] == 'single'].shape[0]\n",
    "print(single_parents)"
   ]
  },
  {
   "cell_type": "code",
   "execution_count": 14,
   "id": "88679cc7",
   "metadata": {
    "tags": []
   },
   "outputs": [
    {
     "name": "stdout",
     "output_type": "stream",
     "text": [
      "True\n"
     ]
    }
   ],
   "source": [
    "# 12. Чи студенти, які регулярно займаються спортом, мають вищі середні результати з математики, ніж ті, хто ніколи не \n",
    "# займається спортом?\n",
    "avg_math_sports = data.groupby('PracticeSport')['MathScore'].mean()\n",
    "print(avg_math_sports['regularly'] > avg_math_sports['never'])"
   ]
  },
  {
   "cell_type": "code",
   "execution_count": 15,
   "id": "f290c168",
   "metadata": {
    "tags": []
   },
   "outputs": [
    {
     "name": "stdout",
     "output_type": "stream",
     "text": [
      "True\n"
     ]
    }
   ],
   "source": [
    "# 13. Чи студенти, які регулярно займаються спортом, мають вищі середні результати читання, ніж ті, хто ніколи не займається спортом?\n",
    "avg_reading_sports = data.groupby('PracticeSport')['ReadingScore'].mean()\n",
    "print(avg_reading_sports['regularly'] > avg_reading_sports['never'])"
   ]
  },
  {
   "cell_type": "code",
   "execution_count": 16,
   "id": "1101117a",
   "metadata": {
    "tags": []
   },
   "outputs": [
    {
     "name": "stdout",
     "output_type": "stream",
     "text": [
      "16145\n"
     ]
    }
   ],
   "source": [
    "# 14. Скільки учнів користується шкільним автобусом, щоб дістатися до школи?\n",
    "school_bus_count = data[data['TransportMeans'] == 'school_bus'].shape[0]\n",
    "print(school_bus_count)"
   ]
  },
  {
   "cell_type": "code",
   "execution_count": 17,
   "id": "e59e31cf",
   "metadata": {
    "tags": []
   },
   "outputs": [
    {
     "name": "stdout",
     "output_type": "stream",
     "text": [
      "11362\n"
     ]
    }
   ],
   "source": [
    "# 15. Скільки учнів користується приватним транспортом, щоб дістатися до школи?\n",
    "private_transport_count = data[data['TransportMeans'] == 'private'].shape[0]\n",
    "print(private_transport_count)"
   ]
  }
 ],
 "metadata": {
  "kernelspec": {
   "display_name": "Python 3 (ipykernel)",
   "language": "python",
   "name": "python3"
  },
  "language_info": {
   "codemirror_mode": {
    "name": "ipython",
    "version": 3
   },
   "file_extension": ".py",
   "mimetype": "text/x-python",
   "name": "python",
   "nbconvert_exporter": "python",
   "pygments_lexer": "ipython3",
   "version": "3.11.5"
  }
 },
 "nbformat": 4,
 "nbformat_minor": 5
}
