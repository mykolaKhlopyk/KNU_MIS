{
 "cells": [
  {
   "cell_type": "code",
   "execution_count": 1,
   "id": "6daf845f",
   "metadata": {},
   "outputs": [
    {
     "name": "stdout",
     "output_type": "stream",
     "text": [
      "Enter n: 5\n",
      "[1, 0, 0, 0, 0]\n",
      "[0, 2, 0, 0, 0]\n",
      "[0, 0, 3, 0, 0]\n",
      "[0, 0, 0, 4, 0]\n",
      "[0, 0, 0, 0, 5]\n",
      "CPU times: user 61.4 ms, sys: 21 ms, total: 82.4 ms\n",
      "Wall time: 3.49 s\n"
     ]
    }
   ],
   "source": [
    "def task1():\n",
    "    n = int(input(\"Enter n: \"))\n",
    "    arr = [[0 for j in range(n)] for i in range(n)]\n",
    "    \n",
    "    for i in range(n):\n",
    "        arr[i][i] = i + 1\n",
    "\n",
    "    for row in arr:\n",
    "        print(row)\n",
    "        \n",
    "        \n",
    "%time task1()"
   ]
  },
  {
   "cell_type": "code",
   "execution_count": 2,
   "id": "68f741cf",
   "metadata": {},
   "outputs": [
    {
     "name": "stdout",
     "output_type": "stream",
     "text": [
      "Enter n: 5\n",
      "[1, 1, 1, 1, 1]\n",
      "[0, 0, 0, 0, 0]\n",
      "[1, 1, 1, 1, 1]\n",
      "[0, 0, 0, 0, 0]\n",
      "[1, 1, 1, 1, 1]\n",
      "CPU times: user 40.6 ms, sys: 14.9 ms, total: 55.5 ms\n",
      "Wall time: 2.07 s\n"
     ]
    }
   ],
   "source": [
    "def task5():\n",
    "    n = int(input(\"Enter n: \"))\n",
    "    \n",
    "    arr = [[0 for j in range(n)] for i in range(n)]\n",
    "    \n",
    "    for i in range(n):\n",
    "        if i % 2 == 0:\n",
    "            for j in range(n):\n",
    "                arr[i][j] = 1\n",
    "                \n",
    "    for row in arr:\n",
    "        print(row)\n",
    "        \n",
    "%time task5()"
   ]
  },
  {
   "cell_type": "code",
   "execution_count": 5,
   "id": "557c8755",
   "metadata": {},
   "outputs": [
    {
     "name": "stdout",
     "output_type": "stream",
     "text": [
      "[-1, 9, -1, -1, 10, -1, 1]\n",
      "CPU times: user 361 µs, sys: 161 µs, total: 522 µs\n",
      "Wall time: 397 µs\n"
     ]
    }
   ],
   "source": [
    "def task7(array):\n",
    "    for i in range(len(array)):\n",
    "        if array[i] == 0:\n",
    "            array[i] = -1\n",
    "    print(array)\n",
    "\n",
    "%time task7([0,9,0,0,10,0,1])"
   ]
  },
  {
   "cell_type": "code",
   "execution_count": 7,
   "id": "fa58c239",
   "metadata": {},
   "outputs": [
    {
     "name": "stdout",
     "output_type": "stream",
     "text": [
      "5\n",
      "2\n",
      "CPU times: user 201 µs, sys: 446 µs, total: 647 µs\n",
      "Wall time: 2.13 ms\n"
     ]
    }
   ],
   "source": [
    "def task8(array):\n",
    "    count_zeros = 0\n",
    "    count_non_zeros = 0\n",
    "\n",
    "    for element in array:\n",
    "        if element == 0:\n",
    "            count_zeros += 1\n",
    "        else:\n",
    "            count_non_zeros += 1\n",
    "\n",
    "    print(count_zeros)\n",
    "    print(count_non_zeros)\n",
    "\n",
    "%time task8([-1,3,0,0,0,0,0])"
   ]
  },
  {
   "cell_type": "code",
   "execution_count": 4,
   "id": "2839c6f8",
   "metadata": {},
   "outputs": [
    {
     "name": "stdout",
     "output_type": "stream",
     "text": [
      "Enter n: 6\n",
      "[0, 0, 0, 0, 0, 0]\n",
      "[0, 1, 1, 1, 1, 0]\n",
      "[0, 1, 1, 1, 1, 0]\n",
      "[0, 1, 1, 1, 1, 0]\n",
      "[0, 1, 1, 1, 1, 0]\n",
      "[0, 0, 0, 0, 0, 0]\n",
      "CPU times: user 35.2 ms, sys: 14 ms, total: 49.2 ms\n",
      "Wall time: 1.64 s\n"
     ]
    }
   ],
   "source": [
    "def task12():\n",
    "    n = int(input(\"Enter n: \"))\n",
    "    \n",
    "    arr = [[1 for j in range(n)] for i in range(n)]\n",
    "    \n",
    "    arr[0] = [0 for i in range(n)]\n",
    "    arr[n-1] = [0 for i in range(n)]\n",
    "    \n",
    "    for i in range(1, n-1):\n",
    "        for j in range(n):\n",
    "            if j == 0 or j == n - 1:\n",
    "                arr[i][j] = 0\n",
    "                \n",
    "    for row in arr:\n",
    "        print(row)\n",
    "        \n",
    "%time task12()"
   ]
  },
  {
   "cell_type": "code",
   "execution_count": 7,
   "id": "6ffd2260",
   "metadata": {},
   "outputs": [
    {
     "name": "stdout",
     "output_type": "stream",
     "text": [
      "Enter n: 5\n",
      "[0, 1, 0, 0, 4, 5]\n",
      "CPU times: user 24.4 ms, sys: 13.2 ms, total: 37.6 ms\n",
      "Wall time: 2.16 s\n"
     ]
    }
   ],
   "source": [
    "def task16():\n",
    "    n = int(input(\"Enter n: \"))\n",
    "    \n",
    "    arr = [i for i in range(n+1)]\n",
    "    \n",
    "    for i in range(n+1):\n",
    "        if n/4 < i and i < 3*n/4:\n",
    "            arr[i] = 0\n",
    "            \n",
    "    print(arr)\n",
    "        \n",
    "%time task16()"
   ]
  },
  {
   "cell_type": "code",
   "execution_count": 8,
   "id": "606ec2e0",
   "metadata": {},
   "outputs": [
    {
     "name": "stdout",
     "output_type": "stream",
     "text": [
      "Enter n: 6\n",
      "[0, -1, -2, 3, 4, -5, -6]\n",
      "CPU times: user 30.1 ms, sys: 11 ms, total: 41.1 ms\n",
      "Wall time: 1.69 s\n"
     ]
    }
   ],
   "source": [
    "def task17():\n",
    "    n = int(input(\"Enter n: \"))\n",
    "    \n",
    "    arr = [i for i in range(n+1)]\n",
    "    \n",
    "    for i in range(n+1):\n",
    "        if i < n/2 or i > 3*n/4:\n",
    "            arr[i] *= -1\n",
    "            \n",
    "    print(arr)\n",
    "        \n",
    "%time task17()"
   ]
  },
  {
   "cell_type": "code",
   "execution_count": 9,
   "id": "5a43fd13",
   "metadata": {},
   "outputs": [
    {
     "name": "stdout",
     "output_type": "stream",
     "text": [
      "Enter n: 5\n",
      "Enter m: 5\n",
      "[0, 0, 2, 2, 3]\n",
      "[1, 2, 0, 5, 2]\n",
      "[4, 5, 4, 3, 5]\n",
      "[3, 2, 3, 5, 1]\n",
      "[0, 1, 5, 0, 5]\n",
      "[0, 0, 2, 2, 3]\n",
      "[1, 2, 0, -5, 2]\n",
      "[4, -5, 4, 3, -5]\n",
      "[3, 2, 3, -5, 1]\n",
      "[0, 1, -5, 0, -5]\n",
      "CPU times: user 105 ms, sys: 37.6 ms, total: 142 ms\n",
      "Wall time: 5.44 s\n"
     ]
    }
   ],
   "source": [
    "import random\n",
    "\n",
    "def task21():\n",
    "    n = int(input(\"Enter n: \"))\n",
    "    m = int(input(\"Enter m: \"))\n",
    "    \n",
    "    arr = [[random.randint(0, m) for j in range(n)] for i in range(n)]\n",
    "    \n",
    "    for row in arr:\n",
    "        print(row)\n",
    "        \n",
    "    arr_max = max(max(arr[i]) for i in range(n))\n",
    "    for i in range(n):\n",
    "        for j in range(n):\n",
    "            if arr[i][j] == arr_max:\n",
    "                arr[i][j] *= -1\n",
    "                \n",
    "    for row in arr:\n",
    "        print(row)\n",
    "        \n",
    "%time task21()"
   ]
  },
  {
   "cell_type": "code",
   "execution_count": 16,
   "id": "502f3c60",
   "metadata": {},
   "outputs": [
    {
     "name": "stdout",
     "output_type": "stream",
     "text": [
      "[-4.00000000000000 -2.00000000000000 8.00000000000000 -4.00000000000000]\n"
     ]
    }
   ],
   "source": [
    "import numpy as np\n",
    "import sympy\n",
    "\n",
    "\n",
    "A = np.array([[5, 1, 0, -1],\n",
    "    [3,  -3,  1, 4],\n",
    "    [3, 0, -2, 1],\n",
    "    [1, -4, 0, 1]])\n",
    "\n",
    "B = np.array([-9, -7, -16, 0])\n",
    "\n",
    "\n",
    "def kernel_method(A, b):\n",
    "    # Об'єднання матриці A та вектору b для отримання розширеної матриці\n",
    "    augmented_matrix = np.column_stack((A, b))\n",
    "\n",
    "    # Зведення до ступеневої форми\n",
    "    rref, pivot_cols = sympy.Matrix(augmented_matrix).rref()\n",
    "\n",
    "    # Знаходження розв'язків однорідної системи\n",
    "    kernel_matrix = rref[:, :-1]\n",
    "    kernel_basis = sympy.Matrix(kernel_matrix).nullspace()\n",
    "\n",
    "    # Знаходження частини загального розв'язку\n",
    "    particular_solution = np.array([])\n",
    "    for col_idx in range(kernel_matrix.shape[1]):\n",
    "        if col_idx not in pivot_cols:\n",
    "            free_col = np.array(kernel_basis[0]).reshape(-1, 1) \n",
    "            particular_solution = np.hstack((particular_solution, free_col))\n",
    "\n",
    "    # Знаходження партікулярного розв'язку неоднорідної системи\n",
    "    particular_solution = np.linalg.lstsq(A, b, rcond=None)[0]\n",
    "\n",
    "    # Знаходження загального розв'язку\n",
    "    general_solution = particular_solution + kernel_matrix @ particular_solution\n",
    "\n",
    "    return general_solution\n",
    "\n",
    "\n",
    "\n",
    "print(kernel_method(A, B))\n"
   ]
  },
  {
   "cell_type": "code",
   "execution_count": 23,
   "id": "272e20a8",
   "metadata": {},
   "outputs": [
    {
     "name": "stdout",
     "output_type": "stream",
     "text": [
      "A:\n",
      "[[ 1 -2  3]\n",
      " [ 2  3  5]\n",
      " [ 1  4 -1]]\n",
      "\n",
      "B:\n",
      "[[ 4 11  3]\n",
      " [ 1  6  1]\n",
      " [ 2  2 16]]\n",
      "\n",
      "(A - B)A + 3B:\n",
      "[[ -51 -337  -27]\n",
      " [  -1 -117   17]\n",
      " [ -13   -4 -751]]\n",
      "CPU times: user 1.45 ms, sys: 1.18 ms, total: 2.63 ms\n",
      "Wall time: 4.33 ms\n"
     ]
    }
   ],
   "source": [
    "import numpy as np\n",
    "\n",
    "def task_3():\n",
    "    A = np.array([[1, -2, 3], [2, 3, 5], [1, 4, -1]])\n",
    "    B = np.array([[4, 11, 3], [1, 6, 1], [2, 2, 16]])\n",
    "\n",
    "    # (A + B)A - B(2A+3B)\n",
    "\n",
    "    C = np.subtract(np.multiply(np.add(A, B), A), np.multiply(B, (np.add(np.multiply(A, 2), np.multiply(B,3)))))\n",
    "\n",
    "    print(\"A:\")\n",
    "    print(A)\n",
    "    print(\"\\nB:\")\n",
    "    print(B)\n",
    "    print(\"\\n(A - B)A + 3B:\")\n",
    "    print(C)\n",
    "\n",
    "%time task_3()"
   ]
  }
 ],
 "metadata": {
  "kernelspec": {
   "display_name": "Python 3 (ipykernel)",
   "language": "python",
   "name": "python3"
  },
  "language_info": {
   "codemirror_mode": {
    "name": "ipython",
    "version": 3
   },
   "file_extension": ".py",
   "mimetype": "text/x-python",
   "name": "python",
   "nbconvert_exporter": "python",
   "pygments_lexer": "ipython3",
   "version": "3.11.5"
  }
 },
 "nbformat": 4,
 "nbformat_minor": 5
}
